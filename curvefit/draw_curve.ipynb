{
 "cells": [
  {
   "cell_type": "code",
   "execution_count": 1,
   "metadata": {},
   "outputs": [],
   "source": [
    "import yt\n",
    "import numpy as np\n",
    "import json"
   ]
  },
  {
   "cell_type": "code",
   "execution_count": 2,
   "metadata": {},
   "outputs": [],
   "source": [
    "import matplotlib\n",
    "matplotlib.use('Agg')\n",
    "import matplotlib.pyplot as plt\n",
    "%matplotlib inline"
   ]
  },
  {
   "cell_type": "code",
   "execution_count": 3,
   "metadata": {},
   "outputs": [
    {
     "name": "stderr",
     "output_type": "stream",
     "text": [
      "yt : [INFO     ] 2017-11-23 20:20:53,008 Calculating time from 0.000e+00 to be 4.250e+17 seconds\n",
      "yt : [INFO     ] 2017-11-23 20:20:53,021 Parameters: current_time              = 4.249860691601936e+17 s\n",
      "yt : [INFO     ] 2017-11-23 20:20:53,022 Parameters: domain_dimensions         = [2 2 2]\n",
      "yt : [INFO     ] 2017-11-23 20:20:53,023 Parameters: domain_left_edge          = [-100000. -100000. -100000.]\n",
      "yt : [INFO     ] 2017-11-23 20:20:53,024 Parameters: domain_right_edge         = [ 100000.  100000.  100000.]\n",
      "yt : [INFO     ] 2017-11-23 20:20:53,025 Parameters: cosmological_simulation   = 1\n",
      "yt : [INFO     ] 2017-11-23 20:20:53,026 Parameters: current_redshift          = 0.0\n",
      "yt : [INFO     ] 2017-11-23 20:20:53,026 Parameters: omega_lambda              = 0.7\n",
      "yt : [INFO     ] 2017-11-23 20:20:53,027 Parameters: omega_matter              = 0.3\n",
      "yt : [INFO     ] 2017-11-23 20:20:53,027 Parameters: hubble_constant           = 0.7\n",
      "yt : [INFO     ] 2017-11-23 20:20:53,030 Allocating for 4.000e+05 particles (index particle type 'all')\n",
      "yt : [INFO     ] 2017-11-23 20:20:53,080 Identified 2.435e+04 octs\n",
      "yt : [INFO     ] 2017-11-23 20:20:56,773 Max Value is 1.01681e-25 at -200.6530761718750000 -49.5910644531250000 -0.7629394531250000\n"
     ]
    }
   ],
   "source": [
    "fname = \"snap_000_n1.hdf5\"\n",
    "unit_base = {'UnitLength_in_cm'         : 3.08568e+21,\n",
    "             'UnitMass_in_g'            :   1.989e+43,\n",
    "             'UnitVelocity_in_cm_per_s' :      100000}\n",
    "\n",
    "bbox_lim = 1e5   # kpc\n",
    "bbox = [[-bbox_lim,bbox_lim],\n",
    "        [-bbox_lim,bbox_lim],\n",
    "        [-bbox_lim,bbox_lim]]  # limits\n",
    "\n",
    "ds = yt.load(fname,unit_base=unit_base,bounding_box=bbox)\n",
    "ds.index\n",
    "ad= ds.all_data()\n",
    "\n",
    "sp0 = ds.sphere('max',(1000,\"kpc\"))\n",
    "rp0 = yt.create_profile(sp0, 'radius', ('gas', 'kT'),\n",
    "                        units = {'radius': 'kpc'},\n",
    "                        logs = {'radius': False})"
   ]
  },
  {
   "cell_type": "code",
   "execution_count": 4,
   "metadata": {},
   "outputs": [
    {
     "data": {
      "image/png": "[encoded data removed]",
      "text/plain": [
       "<matplotlib.figure.Figure at 0x7f3d54b0bba8>"
      ]
     },
     "metadata": {},
     "output_type": "display_data"
    }
   ],
   "source": [
    "fig = plt.figure()\n",
    "ax = fig.add_subplot(111)\n",
    "\n",
    "data = np.loadtxt('temp_s2_obs.txt')\n",
    "X = data[:,0]\n",
    "Y = data[:,3]\n",
    "\n",
    "file = open(\"s10_plt.json\")\n",
    "a = json.load(file)\n",
    "b = np.array(a[\"temperature_model\"])\n",
    "\n",
    "ax.plot(rp0.x.value/16.8, rp0[\"kT\"].in_units(\"keV\").value,'black')\n",
    "ax.errorbar(X,Y,xerr=abs(data[:,1:3].T),yerr=abs(data[:,4:].T),color='dimgray',linestyle='none')\n",
    "x_array = np.array(range(4999))\n",
    "x_array = x_array / 16.8\n",
    "plt.fill_between(x_array,b[1],b[2],color='silver')\n",
    "\n",
    "ax.set_xlabel(r\"$\\mathrm{Radius\\ (arcmin)}$\", fontsize=16)\n",
    "ax.set_ylabel(r\"$\\mathrm{T\\ (keV)}$\", fontsize=16)\n",
    "ax.set_xscale('log')\n",
    "ax.set_xlim(0.3,60)\n",
    "ax.set_ylim(0,4)\n",
    "\n",
    "plt.show()"
   ]
  },
  {
   "cell_type": "code",
   "execution_count": null,
   "metadata": {
    "collapsed": true
   },
   "outputs": [],
   "source": []
  }
 ],
 "metadata": {
  "kernelspec": {
   "display_name": "Python 3",
   "language": "python",
   "name": "python3"
  },
  "language_info": {
   "codemirror_mode": {
    "name": "ipython",
    "version": 3
   },
   "file_extension": ".py",
   "mimetype": "text/x-python",
   "name": "python",
   "nbconvert_exporter": "python",
   "pygments_lexer": "ipython3",
   "version": "3.5.2+"
  }
 },
 "nbformat": 4,
 "nbformat_minor": 2
}
